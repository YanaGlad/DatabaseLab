{
  "nbformat": 4,
  "nbformat_minor": 0,
  "metadata": {
    "kernelspec": {
      "display_name": "Python 3",
      "language": "python",
      "name": "python3"
    },
    "language_info": {
      "codemirror_mode": {
        "name": "ipython",
        "version": 3
      },
      "file_extension": ".py",
      "mimetype": "text/x-python",
      "name": "python",
      "nbconvert_exporter": "python",
      "pygments_lexer": "ipython3",
      "version": "3.7.6"
    },
    "colab": {
      "name": "Лабораторная-2.ipynb",
      "provenance": [],
      "collapsed_sections": [],
      "include_colab_link": true
    }
  },
  "cells": [
    {
      "cell_type": "markdown",
      "metadata": {
        "id": "view-in-github",
        "colab_type": "text"
      },
      "source": [
        "<a href=\"https://colab.research.google.com/github/YanaGlad/DatabaseLab/blob/master/lab_2.ipynb\" target=\"_parent\"><img src=\"https://colab.research.google.com/assets/colab-badge.svg\" alt=\"Open In Colab\"/></a>"
      ]
    },
    {
      "cell_type": "code",
      "metadata": {
        "colab": {
          "base_uri": "https://localhost:8080/",
          "height": 35
        },
        "id": "exFkotWz7Lk_",
        "outputId": "6773ba9c-0d09-4756-b720-5efe56110005"
      },
      "source": [
        "%reload_ext sql\n",
        "%sql sqlite:///chinook.db"
      ],
      "execution_count": 1,
      "outputs": [
        {
          "output_type": "execute_result",
          "data": {
            "application/vnd.google.colaboratory.intrinsic+json": {
              "type": "string"
            },
            "text/plain": [
              "'Connected: @chinook.db'"
            ]
          },
          "metadata": {},
          "execution_count": 1
        }
      ]
    },
    {
      "cell_type": "markdown",
      "metadata": {
        "id": "RLCXYZL5AVUh"
      },
      "source": [
        "# Часть 1"
      ]
    },
    {
      "cell_type": "markdown",
      "metadata": {
        "id": "IwJ_E91n7LlD"
      },
      "source": [
        "## Задание 1\n",
        "\n",
        "Вывести 20 самых больших по размеру треков жанра ROCK и формата MPEG (используйте команду LIMIT)"
      ]
    },
    {
      "cell_type": "code",
      "metadata": {
        "id": "9b5SWBYUCqmy",
        "outputId": "ee8eb5ff-a9cb-4ba9-fb59-15f776596100",
        "colab": {
          "base_uri": "https://localhost:8080/",
          "height": 849
        }
      },
      "source": [
        "%%sql \n",
        "SELECT * FROM tracks #выбрать все из таблицы tracks\n",
        "inner JOIN media_types ON tracks.MediaTypeId = media_types.MediaTypeId #соединить таблицы по id media type\n",
        "inner JOIN genres \n",
        "ON tracks.GenreId = genres.GenreId\n",
        "WHERE genres.Name = 'Rock' AND media_types.Name = 'MPEG audio file' #жанр - ROCK и формат MPEG\n",
        "ORDER BY tracks.Bytes desc #по убыванию\n",
        "LIMIT 20 #20 элементов "
      ],
      "execution_count": 2,
      "outputs": [
        {
          "output_type": "stream",
          "name": "stdout",
          "text": [
            " * sqlite:///chinook.db\n",
            "Done.\n"
          ]
        },
        {
          "output_type": "execute_result",
          "data": {
            "text/html": [
              "<table>\n",
              "    <thead>\n",
              "        <tr>\n",
              "            <th>TrackId</th>\n",
              "            <th>Name</th>\n",
              "            <th>AlbumId</th>\n",
              "            <th>MediaTypeId</th>\n",
              "            <th>GenreId</th>\n",
              "            <th>Composer</th>\n",
              "            <th>Milliseconds</th>\n",
              "            <th>Bytes</th>\n",
              "            <th>UnitPrice</th>\n",
              "            <th>MediaTypeId_1</th>\n",
              "            <th>Name_1</th>\n",
              "            <th>GenreId_1</th>\n",
              "            <th>Name_2</th>\n",
              "        </tr>\n",
              "    </thead>\n",
              "    <tbody>\n",
              "        <tr>\n",
              "            <td>1666</td>\n",
              "            <td>Dazed And Confused</td>\n",
              "            <td>137</td>\n",
              "            <td>1</td>\n",
              "            <td>1</td>\n",
              "            <td>Jimmy Page</td>\n",
              "            <td>1612329</td>\n",
              "            <td>52490554</td>\n",
              "            <td>0.99</td>\n",
              "            <td>1</td>\n",
              "            <td>MPEG audio file</td>\n",
              "            <td>1</td>\n",
              "            <td>Rock</td>\n",
              "        </tr>\n",
              "        <tr>\n",
              "            <td>620</td>\n",
              "            <td>Space Truckin&#x27;</td>\n",
              "            <td>50</td>\n",
              "            <td>1</td>\n",
              "            <td>1</td>\n",
              "            <td>Blackmore/Gillan/Glover/Lord/Paice</td>\n",
              "            <td>1196094</td>\n",
              "            <td>39267613</td>\n",
              "            <td>0.99</td>\n",
              "            <td>1</td>\n",
              "            <td>MPEG audio file</td>\n",
              "            <td>1</td>\n",
              "            <td>Rock</td>\n",
              "        </tr>\n",
              "        <tr>\n",
              "            <td>1581</td>\n",
              "            <td>Dazed And Confused</td>\n",
              "            <td>127</td>\n",
              "            <td>1</td>\n",
              "            <td>1</td>\n",
              "            <td>Jimmy Page/Led Zeppelin</td>\n",
              "            <td>1116734</td>\n",
              "            <td>36052247</td>\n",
              "            <td>0.99</td>\n",
              "            <td>1</td>\n",
              "            <td>MPEG audio file</td>\n",
              "            <td>1</td>\n",
              "            <td>Rock</td>\n",
              "        </tr>\n",
              "        <tr>\n",
              "            <td>2429</td>\n",
              "            <td>We&#x27;ve Got To Get Together/Jingo</td>\n",
              "            <td>198</td>\n",
              "            <td>1</td>\n",
              "            <td>1</td>\n",
              "            <td>None</td>\n",
              "            <td>1070027</td>\n",
              "            <td>34618222</td>\n",
              "            <td>0.99</td>\n",
              "            <td>1</td>\n",
              "            <td>MPEG audio file</td>\n",
              "            <td>1</td>\n",
              "            <td>Rock</td>\n",
              "        </tr>\n",
              "        <tr>\n",
              "            <td>2432</td>\n",
              "            <td>Funky Piano</td>\n",
              "            <td>198</td>\n",
              "            <td>1</td>\n",
              "            <td>1</td>\n",
              "            <td>None</td>\n",
              "            <td>934791</td>\n",
              "            <td>30200730</td>\n",
              "            <td>0.99</td>\n",
              "            <td>1</td>\n",
              "            <td>MPEG audio file</td>\n",
              "            <td>1</td>\n",
              "            <td>Rock</td>\n",
              "        </tr>\n",
              "        <tr>\n",
              "            <td>621</td>\n",
              "            <td>Going Down / Highway Star</td>\n",
              "            <td>50</td>\n",
              "            <td>1</td>\n",
              "            <td>1</td>\n",
              "            <td>Gillan/Glover/Lord/Nix - Blackmore/Paice</td>\n",
              "            <td>913658</td>\n",
              "            <td>29846063</td>\n",
              "            <td>0.99</td>\n",
              "            <td>1</td>\n",
              "            <td>MPEG audio file</td>\n",
              "            <td>1</td>\n",
              "            <td>Rock</td>\n",
              "        </tr>\n",
              "        <tr>\n",
              "            <td>2427</td>\n",
              "            <td>Santana Jam</td>\n",
              "            <td>197</td>\n",
              "            <td>1</td>\n",
              "            <td>1</td>\n",
              "            <td>Carlos Santana</td>\n",
              "            <td>882834</td>\n",
              "            <td>29207100</td>\n",
              "            <td>0.99</td>\n",
              "            <td>1</td>\n",
              "            <td>MPEG audio file</td>\n",
              "            <td>1</td>\n",
              "            <td>Rock</td>\n",
              "        </tr>\n",
              "        <tr>\n",
              "            <td>2565</td>\n",
              "            <td>The Sun Road</td>\n",
              "            <td>208</td>\n",
              "            <td>1</td>\n",
              "            <td>1</td>\n",
              "            <td>Terry Bozzio, Steve Stevens, Tony Levin</td>\n",
              "            <td>880640</td>\n",
              "            <td>29008407</td>\n",
              "            <td>0.99</td>\n",
              "            <td>1</td>\n",
              "            <td>MPEG audio file</td>\n",
              "            <td>1</td>\n",
              "            <td>Rock</td>\n",
              "        </tr>\n",
              "        <tr>\n",
              "            <td>1670</td>\n",
              "            <td>Whole Lotta Love</td>\n",
              "            <td>138</td>\n",
              "            <td>1</td>\n",
              "            <td>1</td>\n",
              "            <td>John Bonham/John Paul Jones/Robert Plant/Willie Dixon</td>\n",
              "            <td>863895</td>\n",
              "            <td>28191437</td>\n",
              "            <td>0.99</td>\n",
              "            <td>1</td>\n",
              "            <td>MPEG audio file</td>\n",
              "            <td>1</td>\n",
              "            <td>Rock</td>\n",
              "        </tr>\n",
              "        <tr>\n",
              "            <td>622</td>\n",
              "            <td>Mistreated (Alternate Version)</td>\n",
              "            <td>50</td>\n",
              "            <td>1</td>\n",
              "            <td>1</td>\n",
              "            <td>Blackmore/Coverdale</td>\n",
              "            <td>854700</td>\n",
              "            <td>27775442</td>\n",
              "            <td>0.99</td>\n",
              "            <td>1</td>\n",
              "            <td>MPEG audio file</td>\n",
              "            <td>1</td>\n",
              "            <td>Rock</td>\n",
              "        </tr>\n",
              "        <tr>\n",
              "            <td>2431</td>\n",
              "            <td>Just Ain&#x27;t Good Enough</td>\n",
              "            <td>198</td>\n",
              "            <td>1</td>\n",
              "            <td>1</td>\n",
              "            <td>None</td>\n",
              "            <td>850259</td>\n",
              "            <td>27489067</td>\n",
              "            <td>0.99</td>\n",
              "            <td>1</td>\n",
              "            <td>MPEG audio file</td>\n",
              "            <td>1</td>\n",
              "            <td>Rock</td>\n",
              "        </tr>\n",
              "        <tr>\n",
              "            <td>1395</td>\n",
              "            <td>Sign Of The Cross</td>\n",
              "            <td>113</td>\n",
              "            <td>1</td>\n",
              "            <td>1</td>\n",
              "            <td>Steve Harris</td>\n",
              "            <td>678008</td>\n",
              "            <td>27121792</td>\n",
              "            <td>0.99</td>\n",
              "            <td>1</td>\n",
              "            <td>MPEG audio file</td>\n",
              "            <td>1</td>\n",
              "            <td>Rock</td>\n",
              "        </tr>\n",
              "        <tr>\n",
              "            <td>1585</td>\n",
              "            <td>Whole Lotta Love (Medley)</td>\n",
              "            <td>127</td>\n",
              "            <td>1</td>\n",
              "            <td>1</td>\n",
              "            <td>Arthur Crudup/Bernard Besman/Bukka White/Doc Pomus/John Bonham/John Lee Hooker/John Paul Jones/Mort Shuman/Robert Plant/Willie Dixon</td>\n",
              "            <td>825103</td>\n",
              "            <td>26742545</td>\n",
              "            <td>0.99</td>\n",
              "            <td>1</td>\n",
              "            <td>MPEG audio file</td>\n",
              "            <td>1</td>\n",
              "            <td>Rock</td>\n",
              "        </tr>\n",
              "        <tr>\n",
              "            <td>549</td>\n",
              "            <td>You Fool No One</td>\n",
              "            <td>43</td>\n",
              "            <td>1</td>\n",
              "            <td>1</td>\n",
              "            <td>Coverdale/Lord/Paice</td>\n",
              "            <td>804101</td>\n",
              "            <td>26369966</td>\n",
              "            <td>0.99</td>\n",
              "            <td>1</td>\n",
              "            <td>MPEG audio file</td>\n",
              "            <td>1</td>\n",
              "            <td>Rock</td>\n",
              "        </tr>\n",
              "        <tr>\n",
              "            <td>1669</td>\n",
              "            <td>Moby Dick</td>\n",
              "            <td>138</td>\n",
              "            <td>1</td>\n",
              "            <td>1</td>\n",
              "            <td>John Bonham/John Paul Jones</td>\n",
              "            <td>766354</td>\n",
              "            <td>25345841</td>\n",
              "            <td>0.99</td>\n",
              "            <td>1</td>\n",
              "            <td>MPEG audio file</td>\n",
              "            <td>1</td>\n",
              "            <td>Rock</td>\n",
              "        </tr>\n",
              "        <tr>\n",
              "            <td>623</td>\n",
              "            <td>You Fool No One (Alternate Version)</td>\n",
              "            <td>50</td>\n",
              "            <td>1</td>\n",
              "            <td>1</td>\n",
              "            <td>Blackmore/Coverdale/Lord/Paice</td>\n",
              "            <td>763924</td>\n",
              "            <td>24887209</td>\n",
              "            <td>0.99</td>\n",
              "            <td>1</td>\n",
              "            <td>MPEG audio file</td>\n",
              "            <td>1</td>\n",
              "            <td>Rock</td>\n",
              "        </tr>\n",
              "        <tr>\n",
              "            <td>582</td>\n",
              "            <td>The Calling</td>\n",
              "            <td>46</td>\n",
              "            <td>1</td>\n",
              "            <td>1</td>\n",
              "            <td>Carlos Santana &amp; C. Thompson</td>\n",
              "            <td>747755</td>\n",
              "            <td>24703884</td>\n",
              "            <td>0.99</td>\n",
              "            <td>1</td>\n",
              "            <td>MPEG audio file</td>\n",
              "            <td>1</td>\n",
              "            <td>Rock</td>\n",
              "        </tr>\n",
              "        <tr>\n",
              "            <td>547</td>\n",
              "            <td>Mistreated</td>\n",
              "            <td>43</td>\n",
              "            <td>1</td>\n",
              "            <td>1</td>\n",
              "            <td>Coverdale</td>\n",
              "            <td>758648</td>\n",
              "            <td>24596235</td>\n",
              "            <td>0.99</td>\n",
              "            <td>1</td>\n",
              "            <td>MPEG audio file</td>\n",
              "            <td>1</td>\n",
              "            <td>Rock</td>\n",
              "        </tr>\n",
              "        <tr>\n",
              "            <td>1667</td>\n",
              "            <td>No Quarter</td>\n",
              "            <td>138</td>\n",
              "            <td>1</td>\n",
              "            <td>1</td>\n",
              "            <td>John Paul Jones/Robert Plant</td>\n",
              "            <td>749897</td>\n",
              "            <td>24399285</td>\n",
              "            <td>0.99</td>\n",
              "            <td>1</td>\n",
              "            <td>MPEG audio file</td>\n",
              "            <td>1</td>\n",
              "            <td>Rock</td>\n",
              "        </tr>\n",
              "        <tr>\n",
              "            <td>1407</td>\n",
              "            <td>The Angel And The Gambler</td>\n",
              "            <td>114</td>\n",
              "            <td>1</td>\n",
              "            <td>1</td>\n",
              "            <td>Steve Harris</td>\n",
              "            <td>592744</td>\n",
              "            <td>23711872</td>\n",
              "            <td>0.99</td>\n",
              "            <td>1</td>\n",
              "            <td>MPEG audio file</td>\n",
              "            <td>1</td>\n",
              "            <td>Rock</td>\n",
              "        </tr>\n",
              "    </tbody>\n",
              "</table>"
            ],
            "text/plain": [
              "[(1666, 'Dazed And Confused', 137, 1, 1, 'Jimmy Page', 1612329, 52490554, 0.99, 1, 'MPEG audio file', 1, 'Rock'),\n",
              " (620, \"Space Truckin'\", 50, 1, 1, 'Blackmore/Gillan/Glover/Lord/Paice', 1196094, 39267613, 0.99, 1, 'MPEG audio file', 1, 'Rock'),\n",
              " (1581, 'Dazed And Confused', 127, 1, 1, 'Jimmy Page/Led Zeppelin', 1116734, 36052247, 0.99, 1, 'MPEG audio file', 1, 'Rock'),\n",
              " (2429, \"We've Got To Get Together/Jingo\", 198, 1, 1, None, 1070027, 34618222, 0.99, 1, 'MPEG audio file', 1, 'Rock'),\n",
              " (2432, 'Funky Piano', 198, 1, 1, None, 934791, 30200730, 0.99, 1, 'MPEG audio file', 1, 'Rock'),\n",
              " (621, 'Going Down / Highway Star', 50, 1, 1, 'Gillan/Glover/Lord/Nix - Blackmore/Paice', 913658, 29846063, 0.99, 1, 'MPEG audio file', 1, 'Rock'),\n",
              " (2427, 'Santana Jam', 197, 1, 1, 'Carlos Santana', 882834, 29207100, 0.99, 1, 'MPEG audio file', 1, 'Rock'),\n",
              " (2565, 'The Sun Road', 208, 1, 1, 'Terry Bozzio, Steve Stevens, Tony Levin', 880640, 29008407, 0.99, 1, 'MPEG audio file', 1, 'Rock'),\n",
              " (1670, 'Whole Lotta Love', 138, 1, 1, 'John Bonham/John Paul Jones/Robert Plant/Willie Dixon', 863895, 28191437, 0.99, 1, 'MPEG audio file', 1, 'Rock'),\n",
              " (622, 'Mistreated (Alternate Version)', 50, 1, 1, 'Blackmore/Coverdale', 854700, 27775442, 0.99, 1, 'MPEG audio file', 1, 'Rock'),\n",
              " (2431, \"Just Ain't Good Enough\", 198, 1, 1, None, 850259, 27489067, 0.99, 1, 'MPEG audio file', 1, 'Rock'),\n",
              " (1395, 'Sign Of The Cross', 113, 1, 1, 'Steve Harris', 678008, 27121792, 0.99, 1, 'MPEG audio file', 1, 'Rock'),\n",
              " (1585, 'Whole Lotta Love (Medley)', 127, 1, 1, 'Arthur Crudup/Bernard Besman/Bukka White/Doc Pomus/John Bonham/John Lee Hooker/John Paul Jones/Mort Shuman/Robert Plant/Willie Dixon', 825103, 26742545, 0.99, 1, 'MPEG audio file', 1, 'Rock'),\n",
              " (549, 'You Fool No One', 43, 1, 1, 'Coverdale/Lord/Paice', 804101, 26369966, 0.99, 1, 'MPEG audio file', 1, 'Rock'),\n",
              " (1669, 'Moby Dick', 138, 1, 1, 'John Bonham/John Paul Jones', 766354, 25345841, 0.99, 1, 'MPEG audio file', 1, 'Rock'),\n",
              " (623, 'You Fool No One (Alternate Version)', 50, 1, 1, 'Blackmore/Coverdale/Lord/Paice', 763924, 24887209, 0.99, 1, 'MPEG audio file', 1, 'Rock'),\n",
              " (582, 'The Calling', 46, 1, 1, 'Carlos Santana & C. Thompson', 747755, 24703884, 0.99, 1, 'MPEG audio file', 1, 'Rock'),\n",
              " (547, 'Mistreated', 43, 1, 1, 'Coverdale', 758648, 24596235, 0.99, 1, 'MPEG audio file', 1, 'Rock'),\n",
              " (1667, 'No Quarter', 138, 1, 1, 'John Paul Jones/Robert Plant', 749897, 24399285, 0.99, 1, 'MPEG audio file', 1, 'Rock'),\n",
              " (1407, 'The Angel And The Gambler', 114, 1, 1, 'Steve Harris', 592744, 23711872, 0.99, 1, 'MPEG audio file', 1, 'Rock')]"
            ]
          },
          "metadata": {},
          "execution_count": 2
        }
      ]
    },
    {
      "cell_type": "markdown",
      "metadata": {
        "id": "eEAq-gUB7LlF"
      },
      "source": [
        "## Задание 2\n",
        "Вывести названия всех групп, их песен и названия их альбомов для всех треков жанра ROCK, приобретенные сотрудниками Microsoft"
      ]
    },
    {
      "cell_type": "code",
      "metadata": {
        "id": "LQxLAdI3CrDC",
        "outputId": "e3b4c262-9497-44c9-dc51-d2e567a96fdb",
        "colab": {
          "base_uri": "https://localhost:8080/",
          "height": 246
        }
      },
      "source": [
        "%%sql\n",
        "SELECT artists.Name, tracks.Name, albums.Title FROM invoice_items #названия всех групп, их песен и названия их альбомов для всех треков \n",
        "\n",
        "inner JOIN tracks ON invoice_items.TrackId = tracks.TrackId #объединить с таблицей tracks по id треке\n",
        "\n",
        "inner JOIN genres ON tracks.GenreId = genres.GenreId #объединить с жанрами по id жанра\n",
        "\n",
        "inner JOIN albumsON tracks.AlbumId = albums.AlbumId #объединить с альбомами по id альбома\n",
        "\n",
        "inner JOIN artists ON albums.ArtistId = artists.ArtistId #объединить с исполнителями по id исполнителя\n",
        "\n",
        "inner JOIN invoices ON invoice_items.InvoiceId = invoices.InvoiceId # объекдиить с invoice\n",
        "\n",
        "inner JOIN customers ON invoices.CustomerId = customers.CustomerId #объежинить с покупателями \n",
        "\n",
        "WHERE genres.Name = 'Rock' AND customers.Company LIKE '%Microsoft%' #сотрудники майкрософт"
      ],
      "execution_count": 4,
      "outputs": [
        {
          "output_type": "stream",
          "name": "stdout",
          "text": [
            " * sqlite:///chinook.db\n",
            "Done.\n"
          ]
        },
        {
          "output_type": "execute_result",
          "data": {
            "text/html": [
              "<table>\n",
              "    <thead>\n",
              "        <tr>\n",
              "            <th>Name</th>\n",
              "            <th>Name_1</th>\n",
              "            <th>Title</th>\n",
              "        </tr>\n",
              "    </thead>\n",
              "    <tbody>\n",
              "        <tr>\n",
              "            <td>Foo Fighters</td>\n",
              "            <td>No Way Back</td>\n",
              "            <td>In Your Honor [Disc 1]</td>\n",
              "        </tr>\n",
              "        <tr>\n",
              "            <td>Foo Fighters</td>\n",
              "            <td>Still</td>\n",
              "            <td>In Your Honor [Disc 2]</td>\n",
              "        </tr>\n",
              "        <tr>\n",
              "            <td>Foo Fighters</td>\n",
              "            <td>Razor</td>\n",
              "            <td>In Your Honor [Disc 2]</td>\n",
              "        </tr>\n",
              "        <tr>\n",
              "            <td>Foo Fighters</td>\n",
              "            <td>My Hero</td>\n",
              "            <td>The Colour And The Shape</td>\n",
              "        </tr>\n",
              "        <tr>\n",
              "            <td>Guns N&#x27; Roses</td>\n",
              "            <td>Double Talkin&#x27; Jive</td>\n",
              "            <td>Use Your Illusion I</td>\n",
              "        </tr>\n",
              "        <tr>\n",
              "            <td>Guns N&#x27; Roses</td>\n",
              "            <td>The Garden</td>\n",
              "            <td>Use Your Illusion I</td>\n",
              "        </tr>\n",
              "        <tr>\n",
              "            <td>Guns N&#x27; Roses</td>\n",
              "            <td>Don&#x27;t Damn Me</td>\n",
              "            <td>Use Your Illusion I</td>\n",
              "        </tr>\n",
              "        <tr>\n",
              "            <td>Guns N&#x27; Roses</td>\n",
              "            <td>Dead Horse</td>\n",
              "            <td>Use Your Illusion I</td>\n",
              "        </tr>\n",
              "    </tbody>\n",
              "</table>"
            ],
            "text/plain": [
              "[('Foo Fighters', 'No Way Back', 'In Your Honor [Disc 1]'),\n",
              " ('Foo Fighters', 'Still', 'In Your Honor [Disc 2]'),\n",
              " ('Foo Fighters', 'Razor', 'In Your Honor [Disc 2]'),\n",
              " ('Foo Fighters', 'My Hero', 'The Colour And The Shape'),\n",
              " (\"Guns N' Roses\", \"Double Talkin' Jive\", 'Use Your Illusion I'),\n",
              " (\"Guns N' Roses\", 'The Garden', 'Use Your Illusion I'),\n",
              " (\"Guns N' Roses\", \"Don't Damn Me\", 'Use Your Illusion I'),\n",
              " (\"Guns N' Roses\", 'Dead Horse', 'Use Your Illusion I')]"
            ]
          },
          "metadata": {},
          "execution_count": 4
        }
      ]
    },
    {
      "cell_type": "markdown",
      "metadata": {
        "id": "0mmLXQXr7LlG"
      },
      "source": [
        "## Задание 3\n",
        "Для каждого набора (жанр, тип медиа) вывести среднюю цену по стоимости трека и общее количество, причем вывести только те наборы, для которых все треки стоят больше 1,5$ и для которых в наборе есть хотя бы один трек\n"
      ]
    },
    {
      "cell_type": "code",
      "metadata": {
        "id": "9kcvxk8OCrby"
      },
      "source": [
        ""
      ],
      "execution_count": null,
      "outputs": []
    },
    {
      "cell_type": "markdown",
      "metadata": {
        "id": "M2JDkqnT7LlG"
      },
      "source": [
        "## Задание 4\n",
        "Для каждой компании вывести общее число заказов их клиентов. Необходимо исключить клиентов без компании (NULL)"
      ]
    },
    {
      "cell_type": "code",
      "metadata": {
        "id": "isEzp0r0Crzy"
      },
      "source": [
        ""
      ],
      "execution_count": null,
      "outputs": []
    },
    {
      "cell_type": "markdown",
      "metadata": {
        "id": "Ni7Mi7ur7LlH"
      },
      "source": [
        "## Задание 5\n",
        "Для каждой компании вывести общее количестов песен, купленных по жанру поп-музыки"
      ]
    },
    {
      "cell_type": "code",
      "metadata": {
        "id": "TooWokIqCsIi"
      },
      "source": [
        ""
      ],
      "execution_count": null,
      "outputs": []
    },
    {
      "cell_type": "markdown",
      "metadata": {
        "id": "sxAD3kTf_iSy"
      },
      "source": [
        "## Задание 6\n",
        "Для каждого артиста определить все жанры песен, которые у него есть и количество песен по каждому жанру"
      ]
    },
    {
      "cell_type": "code",
      "metadata": {
        "id": "9fKY5tt3CstK"
      },
      "source": [
        ""
      ],
      "execution_count": null,
      "outputs": []
    },
    {
      "cell_type": "markdown",
      "metadata": {
        "id": "8Nwojma57LlH"
      },
      "source": [
        "## Задание 7\n",
        "Вывести средний размер альбома в байтах"
      ]
    },
    {
      "cell_type": "code",
      "metadata": {
        "id": "K9xquOHcCtGq"
      },
      "source": [
        ""
      ],
      "execution_count": null,
      "outputs": []
    },
    {
      "cell_type": "markdown",
      "metadata": {
        "id": "tsEdbha5CnGC"
      },
      "source": [
        "# Часть 2"
      ]
    },
    {
      "cell_type": "markdown",
      "metadata": {
        "id": "nLIbkB-w_aD6"
      },
      "source": [
        "## Задание 8\n",
        "Вывести названия треков и их продолжительность, которые были приобретены компаниями, которые обслуживаются сотрудниками, нанятыми после 3 сентября 2002 года"
      ]
    },
    {
      "cell_type": "code",
      "metadata": {
        "id": "d3s_ZXkoCuCy"
      },
      "source": [
        ""
      ],
      "execution_count": null,
      "outputs": []
    },
    {
      "cell_type": "markdown",
      "metadata": {
        "id": "Bu60tw0tADem"
      },
      "source": [
        "## Задание 9\n",
        "Для каждого артиста найти жанр, по которому он заработал наибольшее количество денег, а также вывести соотношение общей суммы, заработанной артистом по всем другим жанрам к общей сумме заработанных денег. Если по нескольким жанрам заработано одинаковое количество денег, и оно является максимальным для артиста, то выбирается жанр раньше по алфавиту"
      ]
    },
    {
      "cell_type": "code",
      "metadata": {
        "id": "0DP0Xd0_CuZE"
      },
      "source": [
        ""
      ],
      "execution_count": null,
      "outputs": []
    },
    {
      "cell_type": "markdown",
      "metadata": {
        "id": "epfFVrwEAQzY"
      },
      "source": [
        "## Задание 10\n",
        "Вывести альбом, который является минимальным по объему (в байтах) среди альбомов со стоимостью, большей средней цены за альбом по всем альбомам с таким же жанром (если у альбома песни с нескольким жанрами, то жанром является тот, у которого наибольшее количество песен в альбоме)"
      ]
    },
    {
      "cell_type": "code",
      "metadata": {
        "id": "JDPvn8iTCuvy"
      },
      "source": [
        ""
      ],
      "execution_count": null,
      "outputs": []
    }
  ]
}